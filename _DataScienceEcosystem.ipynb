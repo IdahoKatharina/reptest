{
 "cells": [
  {
   "cell_type": "markdown",
   "id": "a98fd569-3ad7-4024-b91a-87153338db27",
   "metadata": {
    "tags": []
   },
   "source": [
    "# H1: Data Science Tools and Ecosystem"
   ]
  },
  {
   "cell_type": "markdown",
   "id": "6e46ac50-b78e-485b-9b6d-7c627fe41251",
   "metadata": {},
   "source": [
    "In this notebook, Data Science Tools and Ecosystem are summarized.\n"
   ]
  },
  {
   "cell_type": "markdown",
   "id": "45610219-e7ee-4943-8887-49dd4dd029b9",
   "metadata": {},
   "source": [
    "__Objectives:__\n",
    "- List popular languages for Data Science\n",
    "- List commonly used libraries used by Data Scientists\n",
    "- Data Science Tools\n",
    "\n"
   ]
  },
  {
   "cell_type": "markdown",
   "id": "28a88d8b-9a09-4b67-8c30-0981f4422099",
   "metadata": {},
   "source": [
    "Some of the popular languages that Data Scientists use are:\n",
    "1. Python\n",
    "2. Java\n",
    "3. R\n",
    "4. Julia\n",
    "\n"
   ]
  },
  {
   "cell_type": "markdown",
   "id": "4a87c47e-44a1-4435-a970-d8ad54ca982a",
   "metadata": {},
   "source": [
    "Some of the commonly used libraries used by Data Scientists include:\n",
    "1. NumPy\n",
    "2. Matplotlib\n",
    "3. Pandas\n",
    "4. SciPy\n",
    "5. PyTorch\n",
    "6. Seaborn\n"
   ]
  },
  {
   "cell_type": "markdown",
   "id": "b586eb44-2352-48b2-a71f-c0f797beb28c",
   "metadata": {},
   "source": [
    "| Data Science Tools|\n",
    "--------------------\n",
    "|RStudio|\n",
    "|Apache Spark|\n",
    "|TensorFlow|"
   ]
  },
  {
   "cell_type": "markdown",
   "id": "23542f0c-4223-4929-90de-5dd5138f16ca",
   "metadata": {},
   "source": [
    "### H3: Below are a few examples of evaluating arithmetic expressions in Python\n"
   ]
  },
  {
   "cell_type": "code",
   "execution_count": 1,
   "id": "bdfcf251-207f-4d76-ad8a-8af7123575ea",
   "metadata": {
    "tags": []
   },
   "outputs": [
    {
     "data": {
      "text/plain": [
       "17"
      ]
     },
     "execution_count": 1,
     "metadata": {},
     "output_type": "execute_result"
    }
   ],
   "source": [
    "(3*4)+5\n",
    "#This a simple arithmetic expression to mutiply then add integers"
   ]
  },
  {
   "cell_type": "code",
   "execution_count": 9,
   "id": "ad04457c-a01a-4ea3-b235-4096da61c638",
   "metadata": {},
   "outputs": [
    {
     "data": {
      "text/plain": [
       "3.3333333333333335"
      ]
     },
     "execution_count": 9,
     "metadata": {},
     "output_type": "execute_result"
    }
   ],
   "source": [
    "#t his will convert 200 minutes to hours by diving by 60.\n",
    "200/60"
   ]
  },
  {
   "cell_type": "markdown",
   "id": "733b74cb-46b8-4447-a5c7-18f1809ac0aa",
   "metadata": {
    "tags": []
   },
   "source": [
    "## H2: Author\n",
    "Kateryna Kameniuk"
   ]
  },
  {
   "cell_type": "code",
   "execution_count": null,
   "id": "03381202-1d0e-4e38-80ee-f0b23245b92e",
   "metadata": {},
   "outputs": [],
   "source": []
  },
  {
   "cell_type": "code",
   "execution_count": null,
   "id": "37ca279d-0102-4c53-b1a3-447a8b6927e0",
   "metadata": {},
   "outputs": [],
   "source": []
  },
  {
   "cell_type": "code",
   "execution_count": null,
   "id": "a5be4368-2266-4c5f-abfb-b69567aa857d",
   "metadata": {},
   "outputs": [],
   "source": []
  },
  {
   "cell_type": "code",
   "execution_count": null,
   "id": "c2143b54-d4b8-4f5f-bdf0-274e9a72c1f1",
   "metadata": {},
   "outputs": [],
   "source": []
  },
  {
   "cell_type": "code",
   "execution_count": null,
   "id": "d4c22339-e103-4a09-8ce9-7bdaff0c52af",
   "metadata": {},
   "outputs": [],
   "source": []
  }
 ],
 "metadata": {
  "kernelspec": {
   "display_name": "Python",
   "language": "python",
   "name": "conda-env-python-py"
  },
  "language_info": {
   "codemirror_mode": {
    "name": "ipython",
    "version": 3
   },
   "file_extension": ".py",
   "mimetype": "text/x-python",
   "name": "python",
   "nbconvert_exporter": "python",
   "pygments_lexer": "ipython3",
   "version": "3.7.12"
  }
 },
 "nbformat": 4,
 "nbformat_minor": 5
}
